{
  "nbformat": 4,
  "nbformat_minor": 0,
  "metadata": {
    "colab": {
      "name": "Diagrama_de_classes_exemplo.ipynb",
      "provenance": [],
      "collapsed_sections": [],
      "authorship_tag": "ABX9TyNU8d8sAtLmbAQPjNECHjFi",
      "include_colab_link": true
    },
    "kernelspec": {
      "name": "python3",
      "display_name": "Python 3"
    }
  },
  "cells": [
    {
      "cell_type": "markdown",
      "metadata": {
        "id": "view-in-github",
        "colab_type": "text"
      },
      "source": [
        "<a href=\"https://colab.research.google.com/github/Reis25/Analyses_time_series/blob/main/Diagrama_de_classes_exemplo.ipynb\" target=\"_parent\"><img src=\"https://colab.research.google.com/assets/colab-badge.svg\" alt=\"Open In Colab\"/></a>"
      ]
    },
    {
      "cell_type": "code",
      "metadata": {
        "id": "PVUmVZidjEk7",
        "colab": {
          "base_uri": "https://localhost:8080/",
          "height": 129
        },
        "outputId": "0b962d70-bf0d-49a4-b3a6-572a145c758d"
      },
      "source": [
        "# Testando diagrama de classes \n",
        "\n",
        "class Mamifero(object):\n",
        "    qt_prole = 10\n",
        "    feroz = False\n",
        "\n",
        "class Cao(Mamifero):\n",
        "    qt_patas = 4\n",
        "    carnivoro = True\n",
        "    nervoso = False\n",
        "    nome = nome\n",
        "    def __init__(self, nome):\n",
        "        self.nome = nome\n",
        "    def __str__(self):\n",
        "        return self.nome\n",
        "    def __repr__(self):\n",
        "        return 'Cao({0!r})'.format(self.nome)\n",
        "        \n",
        "class Pequines(Cao):\n",
        "    nervoso = True\n",
        "    \n",
        "class Mastiff(Cao):\n",
        "    def latir(self, vezes=1):\n",
        "        \n",
        "class SaoBernardo(Cao):\n",
        "    def __init__(self, nome):\n",
        "        Cao.__init__(self, nome)\n",
        "        self.doses = 10\n",
        "    def servir(self):\n",
        "        if self.doses == 0:\n",
        "            raise ValueError('Refazer o processo!')\n",
        "        self.doses -= 1\n",
        "        msg = 'retornar)'\n",
        "        print msg.format(self.nome, self.doses)"
      ],
      "execution_count": 12,
      "outputs": [
        {
          "output_type": "error",
          "ename": "IndentationError",
          "evalue": "ignored",
          "traceback": [
            "\u001b[0;36m  File \u001b[0;32m\"<ipython-input-12-1fe126eee8dc>\"\u001b[0;36m, line \u001b[0;32m33\u001b[0m\n\u001b[0;31m    class SaoBernardo(Cao):\u001b[0m\n\u001b[0m                           ^\u001b[0m\n\u001b[0;31mIndentationError\u001b[0m\u001b[0;31m:\u001b[0m expected an indented block\n"
          ]
        }
      ]
    }
  ]
}